{
 "cells": [
  {
   "cell_type": "markdown",
   "metadata": {},
   "source": [
    "# Environment setting"
   ]
  },
  {
   "cell_type": "code",
   "execution_count": 1,
   "metadata": {
    "collapsed": true
   },
   "outputs": [],
   "source": [
    "%load_ext autoreload\n",
    "%autoreload 2\n",
    "%matplotlib inline\n",
    "\n",
    "import numpy as np\n",
    "import tensorflow as tf\n",
    "from matplotlib.pyplot import imshow\n",
    "from matplotlib import pyplot as plot\n",
    "import cv2 as cv\n",
    "import pandas as pd\n",
    "from protein_utils import TrainingHelper\n",
    "from sklearn.metrics import f1_score\n",
    "import tensorflow.keras.backend as K\n",
    "import random\n",
    "import os"
   ]
  },
  {
   "cell_type": "code",
   "execution_count": 2,
   "metadata": {
    "collapsed": true
   },
   "outputs": [],
   "source": [
    "TRAIN_PATH = 'data/train/'\n",
    "TEST_PATH = 'data/test/'\n",
    "NUM_OF_CLASSES = 28\n",
    "OPTIMIZERS = {\n",
    "    \"Adam\" : tf.train.AdamOptimizer,\n",
    "    \"SGD\" : tf.train.GradientDescentOptimizer,\n",
    "    \"RMS\" : tf.train.RMSPropOptimizer\n",
    "}"
   ]
  },
  {
   "cell_type": "code",
   "execution_count": 3,
   "metadata": {},
   "outputs": [
    {
     "name": "stdout",
     "output_type": "stream",
     "text": [
      "1.10.0\n"
     ]
    }
   ],
   "source": [
    "# Set tf basic settings\n",
    "print(tf.__version__)\n",
    "tf.logging.set_verbosity(tf.logging.INFO)\n",
    "tf.enable_eager_execution()"
   ]
  },
  {
   "cell_type": "markdown",
   "metadata": {},
   "source": [
    "### Feature extraction functions"
   ]
  },
  {
   "cell_type": "code",
   "execution_count": 4,
   "metadata": {
    "collapsed": true
   },
   "outputs": [],
   "source": [
    "def extract_fn_train(data_record):\n",
    "    features = {\n",
    "        # Extract features using the keys set during creation\n",
    "        'train/label': tf.FixedLenFeature((28), tf.int64),\n",
    "        'train/image': tf.FixedLenFeature([], tf.string)\n",
    "    }    \n",
    "    \n",
    "    sample = tf.parse_single_example(data_record, features)\n",
    "    sample['train/image'] = tf.decode_raw(sample['train/image'], tf.float32)\n",
    "    sample['train/image'] = tf.reshape(sample['train/image'], (512,512,3))\n",
    "    sample['train/image'] = sample['train/image']/255\n",
    "    \n",
    "    return sample\n",
    "\n",
    "def extract_fn_validation(data_record):\n",
    "    features = {\n",
    "        # Extract features using the keys set during creation\n",
    "        'validation/label': tf.FixedLenFeature((28), tf.int64),\n",
    "        'validation/image': tf.FixedLenFeature([], tf.string)\n",
    "    }    \n",
    "    \n",
    "    sample = tf.parse_single_example(data_record, features)\n",
    "    sample['validation/image'] = tf.decode_raw(sample['validation/image'], tf.float32)\n",
    "    sample['validation/image'] = tf.reshape(sample['validation/image'], (512,512,3))\n",
    "    sample['validation/image'] = sample['validation/image']/255\n",
    "\n",
    "    return sample\n",
    "\n",
    "def extract_fn_test(data_record):\n",
    "    features = {\n",
    "        'test/image': tf.FixedLenFeature([], tf.string)\n",
    "    }    \n",
    "    \n",
    "    sample = tf.parse_single_example(data_record, features)\n",
    "    sample['test/image'] = tf.decode_raw(sample['test/image'], tf.float32)\n",
    "    sample['test/image'] = tf.reshape(sample['test/image'], (512,512,3))\n",
    "    sample['test/image'] = sample['test/image']/255\n",
    "    \n",
    "    return sample"
   ]
  },
  {
   "cell_type": "markdown",
   "metadata": {},
   "source": [
    "# Protein classifier model"
   ]
  },
  {
   "cell_type": "code",
   "execution_count": 5,
   "metadata": {
    "collapsed": true
   },
   "outputs": [],
   "source": [
    "class ProteinClassifier(tf.keras.Model):\n",
    "    def __init__(self, optimizer=\"Adam\", lr=1e-3):\n",
    "        super().__init__()\n",
    "        \n",
    "        self.threshold = 0.5\n",
    "        self.thresholds = np.zeros((28))\n",
    "        self.thresholds += 0.5\n",
    "        self.augment_step = 0\n",
    "        self.augment_amount = 0\n",
    "        \n",
    "        # Block1B\n",
    "        self.block1B_conv1 = tf.keras.layers.Conv2D(filters=32,\n",
    "                                                kernel_size=[3, 3],\n",
    "                                                strides=(1, 1),\n",
    "                                                padding='same',\n",
    "                                                use_bias=True,\n",
    "                                                activation=tf.nn.relu,\n",
    "                                                kernel_initializer=tf.contrib.layers.xavier_initializer_conv2d()\n",
    "                                               )\n",
    "        \n",
    "        self.block1B_pool = tf.keras.layers.MaxPool2D(pool_size=(2, 2),\n",
    "                                               strides=(2, 2),\n",
    "                                               padding='valid'\n",
    "                                              )\n",
    "        \n",
    "        # Block2B\n",
    "        self.block2B_conv1 = tf.keras.layers.Conv2D(filters=32,\n",
    "                                                kernel_size=[3, 3],\n",
    "                                                strides=(1, 1),\n",
    "                                                padding='same',\n",
    "                                                use_bias=True,\n",
    "                                                activation=tf.nn.relu,\n",
    "                                                kernel_initializer=tf.contrib.layers.xavier_initializer_conv2d()\n",
    "                                               )\n",
    "              \n",
    "        \n",
    "        self.block2B_pool = tf.keras.layers.MaxPool2D(pool_size=(2, 2),\n",
    "                                               strides=(2, 2),\n",
    "                                               padding='valid'\n",
    "                                              )\n",
    "        \n",
    "        # Block3B\n",
    "        self.block3B_conv1 = tf.keras.layers.Conv2D(filters=32,\n",
    "                                                kernel_size=[3, 3],\n",
    "                                                strides=(1, 1),\n",
    "                                                padding='same',\n",
    "                                                use_bias=True,\n",
    "                                                activation=tf.nn.relu,\n",
    "                                                kernel_initializer=tf.contrib.layers.xavier_initializer_conv2d()\n",
    "                                               )\n",
    "        \n",
    "        self.block3B_conv2 = tf.keras.layers.Conv2D(filters=32,\n",
    "                                                kernel_size=[3, 3],\n",
    "                                                strides=(1, 1),\n",
    "                                                padding='same',\n",
    "                                                use_bias=True,\n",
    "                                                activation=tf.nn.relu,\n",
    "                                                kernel_initializer=tf.contrib.layers.xavier_initializer_conv2d()\n",
    "                                               )       \n",
    "        \n",
    "        self.block3B_pool = tf.keras.layers.MaxPool2D(pool_size=(2, 2),\n",
    "                                               strides=(2, 2),\n",
    "                                               padding='valid'\n",
    "                                               )\n",
    "        \n",
    "        # Block4B\n",
    "        self.block4B_conv1 = tf.keras.layers.Conv2D(filters=32,\n",
    "                                                kernel_size=[3, 3],\n",
    "                                                strides=(1, 1),\n",
    "                                                padding='same',\n",
    "                                                use_bias=True,\n",
    "                                                activation=tf.nn.relu,\n",
    "                                                kernel_initializer=tf.contrib.layers.xavier_initializer_conv2d()\n",
    "                                               )\n",
    "        \n",
    "        self.block4B_conv2 = tf.keras.layers.Conv2D(filters=32,\n",
    "                                                kernel_size=[3, 3],\n",
    "                                                strides=(1, 1),\n",
    "                                                padding='same',\n",
    "                                                use_bias=True,\n",
    "                                                activation=tf.nn.relu,\n",
    "                                                kernel_initializer=tf.contrib.layers.xavier_initializer_conv2d()\n",
    "                                               )       \n",
    "        \n",
    "        self.block4B_pool = tf.keras.layers.MaxPool2D(pool_size=(2, 2),\n",
    "                                               strides=(2, 2),\n",
    "                                               padding='valid'\n",
    "                                               )\n",
    "        \n",
    "        # Block1_R\n",
    "        self.block1R_conv1 = tf.keras.layers.Conv2D(filters=32,\n",
    "                                                kernel_size=[3, 3],\n",
    "                                                strides=(1, 1),\n",
    "                                                padding='same',\n",
    "                                                use_bias=True,\n",
    "                                                activation=tf.nn.relu,\n",
    "                                                kernel_initializer=tf.contrib.layers.xavier_initializer_conv2d()\n",
    "                                               )\n",
    "        \n",
    "        self.block1R_pool = tf.keras.layers.MaxPool2D(pool_size=(2, 2),\n",
    "                                               strides=(2, 2),\n",
    "                                               padding='valid'\n",
    "                                              )\n",
    "        \n",
    "        # Block2R\n",
    "        self.block2R_conv1 = tf.keras.layers.Conv2D(filters=32,\n",
    "                                                kernel_size=[3, 3],\n",
    "                                                strides=(1, 1),\n",
    "                                                padding='same',\n",
    "                                                use_bias=True,\n",
    "                                                activation=tf.nn.relu,\n",
    "                                                kernel_initializer=tf.contrib.layers.xavier_initializer_conv2d()\n",
    "                                               )\n",
    "              \n",
    "        \n",
    "        self.block2R_pool = tf.keras.layers.MaxPool2D(pool_size=(2, 2),\n",
    "                                               strides=(2, 2),\n",
    "                                               padding='valid'\n",
    "                                              )\n",
    "        \n",
    "        # Block3R\n",
    "        self.block3R_conv1 = tf.keras.layers.Conv2D(filters=32,\n",
    "                                                kernel_size=[3, 3],\n",
    "                                                strides=(1, 1),\n",
    "                                                padding='same',\n",
    "                                                use_bias=True,\n",
    "                                                activation=tf.nn.relu,\n",
    "                                                kernel_initializer=tf.contrib.layers.xavier_initializer_conv2d()\n",
    "                                               )\n",
    "        \n",
    "        self.block3R_conv2 = tf.keras.layers.Conv2D(filters=32,\n",
    "                                                kernel_size=[3, 3],\n",
    "                                                strides=(1, 1),\n",
    "                                                padding='same',\n",
    "                                                use_bias=True,\n",
    "                                                activation=tf.nn.relu,\n",
    "                                                kernel_initializer=tf.contrib.layers.xavier_initializer_conv2d()\n",
    "                                               )       \n",
    "        \n",
    "        self.block3R_pool = tf.keras.layers.MaxPool2D(pool_size=(2, 2),\n",
    "                                               strides=(2, 2),\n",
    "                                               padding='valid'\n",
    "                                               )\n",
    "        \n",
    "        # Block4\n",
    "        self.block4R_conv1 = tf.keras.layers.Conv2D(filters=32,\n",
    "                                                kernel_size=[3, 3],\n",
    "                                                strides=(1, 1),\n",
    "                                                padding='same',\n",
    "                                                use_bias=True,\n",
    "                                                activation=tf.nn.relu,\n",
    "                                                kernel_initializer=tf.contrib.layers.xavier_initializer_conv2d()\n",
    "                                               )\n",
    "        \n",
    "        self.block4R_conv2 = tf.keras.layers.Conv2D(filters=32,\n",
    "                                                kernel_size=[3, 3],\n",
    "                                                strides=(1, 1),\n",
    "                                                padding='same',\n",
    "                                                use_bias=True,\n",
    "                                                activation=tf.nn.relu,\n",
    "                                                kernel_initializer=tf.contrib.layers.xavier_initializer_conv2d()\n",
    "                                               )       \n",
    "        \n",
    "        self.block4R_pool = tf.keras.layers.MaxPool2D(pool_size=(2, 2),\n",
    "                                               strides=(2, 2),\n",
    "                                               padding='valid'\n",
    "                                               )\n",
    "        \n",
    "        \n",
    "        # Dense layers\n",
    "        self.fc1B = tf.keras.layers.Dense(1024, activation=tf.nn.relu, kernel_regularizer=tf.keras.regularizers.l2(0.05))\n",
    "        self.fc1R = tf.keras.layers.Dense(1024, activation=tf.nn.relu, kernel_regularizer=tf.keras.regularizers.l2(0.05))\n",
    "        self.fc2 = tf.keras.layers.Dense(512, activation=tf.nn.relu, kernel_regularizer=tf.keras.regularizers.l2(0.05))\n",
    "        \n",
    "        # Dropout layers\n",
    "        self.dropout_conv = tf.keras.layers.Dropout(rate=0.3)\n",
    "        self.dropout = tf.keras.layers.Dropout(rate=0.3)\n",
    "    \n",
    "        # Dense layer for classes\n",
    "        self.fc3 = tf.keras.layers.Dense(NUM_OF_CLASSES)\n",
    "                                         \n",
    "        # Optimizers\n",
    "        self.cross_entropy_optimizer = OPTIMIZERS[optimizer](learning_rate=lr)\n",
    "        \n",
    "    def preprocess_inputs(self, inputs):\n",
    "        processes_inputs = np.zeros_like(inputs)\n",
    "        processes_inputs[:,:,:,0] = (inputs[:,:,:,0] - mean_image_r)/std_image_r\n",
    "        processes_inputs[:,:,:,1] = (inputs[:,:,:,1] - mean_image_g)/std_image_g\n",
    "        processes_inputs[:,:,:,2] = (inputs[:,:,:,2] - mean_image_b)/std_image_b\n",
    "        \n",
    "        return processes_inputs\n",
    "        \n",
    "    def call(self, inputs_o, training=True, dropout=False, augment=False, augment_control=False, **kwargs):\n",
    "        \n",
    "        inputs = np.copy(inputs_o)\n",
    "        \n",
    "        if (augment):\n",
    "            if augment_control:\n",
    "                self.augment_step += 1\n",
    "                for i in range(inputs.shape[0]):\n",
    "                    flip_desicion = (self.augment_step % 4)\n",
    "                    if (flip_desicion == 1):\n",
    "                        inputs[i] = cv.flip(inputs[i], flip_desicion)\n",
    "                    if (flip_desicion == 2):\n",
    "                        inputs[i] = cv.flip(inputs[i], flip_desicion)\n",
    "                    if (flip_desicion == 3):\n",
    "                        inputs[i] = cv.flip(inputs[i], flip_desicion)\n",
    "                    #shift_amount = int(500 / self.augment_amount) * self.augment_step\n",
    "                    #inputs[i] = np.concatenate((inputs[i][shift_amount:,:,:], inputs[i][:shift_amount,:,:]), axis=0)\n",
    "                    #shift_amount = int(500 / self.augment_amount) * self.augment_step\n",
    "                    #inputs[i] = np.concatenate((inputs[i][:,shift_amount:,:], inputs[i][:,:shift_amount,:]), axis=1)\n",
    "            else:\n",
    "                for i in range(inputs.shape[0]):\n",
    "                    flip_desicion = random.randint(0, 3)\n",
    "                    if (flip_desicion == 1):\n",
    "                        inputs[i] = cv.flip(inputs[i], 0)\n",
    "                    if (flip_desicion == 2):\n",
    "                        inputs[i] = cv.flip(inputs[i], 1)\n",
    "                    if (flip_desicion == 3):\n",
    "                        inputs[i] = cv.flip(inputs[i], -1)\n",
    "                    if random.choice([True, True, False]):\n",
    "                        shift_amount = random.randint(0,500)\n",
    "                        inputs[i] = np.concatenate((inputs[i][shift_amount:,:,:], inputs[i][:shift_amount,:,:]), axis=0)\n",
    "                    if random.choice([True, True, False]):\n",
    "                        shift_amount = random.randint(0,500)\n",
    "                        inputs[i] = np.concatenate((inputs[i][:,shift_amount:,:], inputs[i][:,:shift_amount,:]), axis=1)\n",
    "                    if random.choice([False, False, False, True]):\n",
    "                        mu, sigma = 0.5, 0.05\n",
    "                        s = np.random.normal(mu, sigma, (60,60,3))\n",
    "                        s = s.astype(np.float32)\n",
    "                        rand_ver = random.randint(0,451)\n",
    "                        rand_hor = random.randint(0,451)\n",
    "                        inputs[i][rand_ver:rand_ver+60, rand_hor:rand_hor+60,:] = s\n",
    "     \n",
    "        \n",
    "        # Input Layer\n",
    "        input_r = inputs[:,:,:,0:1]\n",
    "        input_g = inputs[:,:,:,1:2]\n",
    "        input_b = inputs[:,:,:,2:]\n",
    "        inputsR = np.concatenate((input_r,input_g), axis=3)\n",
    "        inputsB = np.concatenate((input_b,input_g), axis=3)\n",
    "        inputsR = tf.reshape(inputsR, [-1, 512, 512, 2])  \n",
    "        inputsB = tf.reshape(inputsB, [-1, 512, 512, 2])  \n",
    "        \n",
    "        # Block1R\n",
    "        x_1R = self.block1R_conv1(inputsR)\n",
    "        x_1R = self.block1R_pool(x_1R)\n",
    "        \n",
    "        # Block2R\n",
    "        x_2R = self.block2R_conv1(x_1R)\n",
    "        x_2R = self.block2R_pool(x_2R)   \n",
    "        \n",
    "        # Block3R\n",
    "        x_3R = self.block3R_conv1(x_2R)\n",
    "        x_3R = self.block3R_conv2(x_3R)\n",
    "        x_3R = self.block3R_pool(x_3R)\n",
    "        \n",
    "        # Block34R\n",
    "        x_4R = self.block4R_conv1(x_3R)\n",
    "        x_4R = self.block4R_conv2(x_4R)\n",
    "        x_4R = self.block4R_pool(x_4R)\n",
    "        \n",
    "        x_4R = tf.reshape(x_4R, [x_4R.shape[0], -1])\n",
    "        \n",
    "        x_fcR = self.fc1R(x_4R)\n",
    "        \n",
    "        # Block1B\n",
    "        x_1B = self.block1B_conv1(inputsB)\n",
    "        x_1B = self.block1B_pool(x_1B)\n",
    "        \n",
    "        # Block2B\n",
    "        x_2B = self.block2B_conv1(x_1B)\n",
    "        x_2B = self.block2B_pool(x_2B)   \n",
    "        \n",
    "        # Block3B\n",
    "        x_3B = self.block3B_conv1(x_2B)\n",
    "        x_3B = self.block3B_conv2(x_3B)\n",
    "        x_3B = self.block3B_pool(x_3B)\n",
    "        \n",
    "        # Block4B\n",
    "        x_4B = self.block4B_conv1(x_3B)\n",
    "        x_4B = self.block4B_conv2(x_4B)\n",
    "        x_4B = self.block3B_pool(x_4B)\n",
    "        \n",
    "        x_4B = tf.reshape(x_4B, [x_4B.shape[0], -1])\n",
    "        \n",
    "        x_fcB = self.fc1B(x_4B)\n",
    "        \n",
    "        x_fc = tf.concat((x_fcR, x_fcB), axis=1)\n",
    "        \n",
    "        if (dropout):\n",
    "            x_fc = self.dropout(x_fc)\n",
    "            \n",
    "        x_fc = self.fc2(x_fc)\n",
    "        \n",
    "        if (dropout):\n",
    "            x_fc = self.dropout(x_fc)\n",
    "        \n",
    "            \n",
    "        logits = self.fc3(x_fc)\n",
    "        \n",
    "        return logits\n",
    "\n",
    "    def cross_entropy_loss(self, labels, logits):        \n",
    "        labels_cast = tf.cast(labels, tf.float32)\n",
    "        loss = tf.nn.sigmoid_cross_entropy_with_logits(labels=labels_cast, logits=logits)\n",
    "        cross_entropy_loss = tf.reduce_mean(loss)\n",
    "        \n",
    "        return cross_entropy_loss\n",
    "    \n",
    "    def f1_loss(self, labels, logits):        \n",
    "        preds = self.get_normalized_logits(logits)\n",
    "        f1_scores = self.calc_f1_scores(labels, preds, gather_relevant=True)\n",
    "        f1_loss = 1 - f1_scores\n",
    "        \n",
    "        return f1_loss \n",
    "\n",
    "    def optimize(self, inputs, labels, training=True, dropout=False, augment=False, blur=False, loss_type='cross_entropy'):\n",
    "        with tf.GradientTape(persistent=True) as tape:\n",
    "            logits = self.get_logits(inputs, training=training, dropout=dropout, augment=augment, blur=blur)\n",
    "        \n",
    "            if loss_type=='cross_entropy':\n",
    "                loss = self.cross_entropy_loss(labels, logits)\n",
    "\n",
    "            else:\n",
    "                loss = self.f1_loss(labels, logits)\n",
    "        \n",
    "        if training:\n",
    "            gradients = tape.gradient(loss, self.variables)\n",
    "            self.cross_entropy_optimizer.apply_gradients(zip(gradients, self.variables))\n",
    "\n",
    "        del(tape)\n",
    "        return loss\n",
    "    \n",
    "    def test(self, inputs, labels):\n",
    "        predictions = self.predict_protein(inputs)\n",
    "        f1_scores = self.calc_f1_scores(labels, predictions, gather_relevant=True)\n",
    "                                        \n",
    "        return f1_scores\n",
    "    \n",
    "    def calc_f1_scores(self, labels, predictions, gather_relevant=False):\n",
    "        \n",
    "        labels_cast = tf.cast(labels, tf.float32)\n",
    "        relevant_labels = np.where(K.sum(labels_cast, axis=0))\n",
    "        \n",
    "        tp = K.sum(K.cast(labels_cast*predictions, 'float'), axis=0)\n",
    "        tn = K.sum(K.cast((1-labels_cast)*(1-predictions), 'float'), axis=0)\n",
    "        fp = K.sum(K.cast((1-labels_cast)*predictions, 'float'), axis=0)\n",
    "        fn = K.sum(K.cast(labels_cast*(1-predictions), 'float'), axis=0)\n",
    "\n",
    "        p = tp / (tp + fp + K.epsilon())\n",
    "        r = tp / (tp + fn + K.epsilon())\n",
    "\n",
    "        f1 = 2*p*r / (p+r+K.epsilon())\n",
    "\n",
    "        f1 = tf.where(tf.is_nan(f1), tf.zeros_like(f1), f1)\n",
    "        if gather_relevant:\n",
    "            f1 = tf.gather(f1, relevant_labels)\n",
    "\n",
    "        f1 = tf.reduce_mean(f1)\n",
    "\n",
    "        return f1\n",
    "    \n",
    "    def get_best_thresh(self, predictions, labels, save_threshold=False, step_size=0.005):\n",
    "        thresholds = np.arange(0, 1, step_size)\n",
    "        best_f1_score = 0\n",
    "        best_thresh = 0\n",
    "        for th in thresholds:\n",
    "            under = np.where(np.array(predictions) < th)\n",
    "            over = np.where(np.array(predictions) >= th)\n",
    "            preds = np.array(predictions)\n",
    "            preds[under] = 0\n",
    "            preds[over] = 1\n",
    "            prediction = tf.convert_to_tensor(preds, dtype=tf.float32)\n",
    "            curr_f1_score = self.calc_f1_scores(labels, prediction)\n",
    "            if (curr_f1_score > best_f1_score):\n",
    "                best_f1_score = curr_f1_score\n",
    "                best_thresh = th\n",
    "                \n",
    "        if (save_threshold):\n",
    "            self.threshold = best_thresh\n",
    "        \n",
    "        \n",
    "        return best_thresh, best_f1_score\n",
    "    \n",
    "    def get_best_thresholds(self, predictions, labels, save_threshold=False, step_size=0.005):\n",
    "        thresholds = np.arange(0, 1, step_size)\n",
    "        for i in range (self.thresholds.shape[0]):\n",
    "            best_f1_score = 0\n",
    "            for th in thresholds:\n",
    "                prediction_check = np.zeros_like(predictions)\n",
    "                prediction_check[:,i] = predictions[:,i]\n",
    "                under = np.where(np.array(prediction_check) < th)\n",
    "                over = np.where(np.array(prediction_check) >= th)\n",
    "                zeros = np.where(np.array(prediction_check) == 0)\n",
    "                preds = np.array(prediction_check)\n",
    "                preds[under] = 0\n",
    "                preds[over] = 1\n",
    "                preds[zeros] = 0\n",
    "                prediction = tf.convert_to_tensor(preds, dtype=tf.float32)\n",
    "                curr_f1_score = self.calc_f1_scores(labels, prediction)\n",
    "                if (curr_f1_score > best_f1_score):\n",
    "                    best_f1_score = curr_f1_score\n",
    "                    self.thresholds[i] = th\n",
    "\n",
    "        return self.thresholds\n",
    "        \n",
    "        \n",
    "    def get_logits(self, inputs, training=False, dropout=False, augment=False, blur=False, augment_control=False):\n",
    "        logits = self(inputs, training=training, dropout=dropout, augment=augment, augment_control=augment_control)\n",
    "        return logits\n",
    "\n",
    "    def get_normalized_logits(self, logits):\n",
    "        return tf.nn.sigmoid(logits)\n",
    "    \n",
    "    def predict_protein(self, inputs, debug_print=False):\n",
    "        returned_prediction = np.zeros((int(inputs.shape[0]), 28))\n",
    "        logits = self.get_logits(inputs)\n",
    "        predictions = self.get_normalized_logits(logits).numpy()\n",
    "        \n",
    "        for i in range(int(inputs.shape[0])):\n",
    "            \n",
    "            over_condition = predictions[i] >= self.thresholds\n",
    "            under_condtions = predictions[i] < self.thresholds\n",
    "            if (np.all(under_condtions)):\n",
    "                max_prediction = np.argmax(predictions[i])\n",
    "                returned_prediction[i][max_prediction] = 1\n",
    "\n",
    "            else:\n",
    "                returned_prediction[i][over_condition] = 1\n",
    "            \n",
    "\n",
    "        if (debug_print):\n",
    "            print(\"Class predictions: {}\".format(np.where(returned_prediction==1)[0]))\n",
    "            print(\"Probs: {}\".format(predictions))\n",
    "\n",
    "        return returned_prediction\n",
    "    \n",
    "    def predict_protein_augmented(self, inputs, num_of_augments=5, debug_print=False):\n",
    "        self.augment_amount = num_of_augments\n",
    "        self.augment_step = 0\n",
    "        returned_prediction = np.zeros((int(inputs.shape[0]), 28))\n",
    "        logits = np.zeros((num_of_augments, int(inputs.shape[0]), 28))\n",
    "        logits[0] = self.get_logits(inputs)\n",
    "        for aug_step in range(1, num_of_augments):\n",
    "            logits[aug_step] = self.get_logits(inputs.numpy(), training=False, dropout=False, augment=True, blur=False, augment_control=True)\n",
    "        \n",
    "        predictions_normalized = tf.nn.sigmoid(logits)\n",
    "        predictions = np.average(predictions_normalized, axis=0)\n",
    "        \n",
    "        for i in range(int(inputs.shape[0])):\n",
    "            \n",
    "            over_condition = predictions[i] >= self.thresholds\n",
    "            under_condtions = predictions[i] < self.thresholds\n",
    "        \n",
    "            if (np.all(under_condtions)):\n",
    "                max_prediction = np.argmax(predictions[i])\n",
    "                returned_prediction[i][max_prediction] = 1\n",
    "            else:\n",
    "                returned_prediction[i][over_condition] = 1\n",
    "            \n",
    "        if (debug_print):\n",
    "            print(\"Class predictions: {}\".format(np.where(returned_prediction==1)[0]))\n",
    "            print(\"Probs: {}\".format(predictions))\n",
    "\n",
    "        return returned_prediction, predictions"
   ]
  },
  {
   "cell_type": "markdown",
   "metadata": {},
   "source": [
    "### Create 4 datasets, train, validation, test and mini dataset"
   ]
  },
  {
   "cell_type": "code",
   "execution_count": 6,
   "metadata": {
    "collapsed": true
   },
   "outputs": [],
   "source": [
    "list_of_test_tfrec = []\n",
    "test_labels = pd.read_csv(\"sample_submission.csv\")\n",
    "num_of_test_images = test_labels.count()['Id']\n",
    "\n",
    "for i in range(0, num_of_test_images):\n",
    "    test_filename = 'data/tfrec/test/' + test_labels['Id'][i] + '.tfrec'\n",
    "    list_of_test_tfrec.append(test_filename)"
   ]
  },
  {
   "cell_type": "code",
   "execution_count": 7,
   "metadata": {},
   "outputs": [
    {
     "name": "stdout",
     "output_type": "stream",
     "text": [
      "74606\n"
     ]
    }
   ],
   "source": [
    "list_of_hpa_tfrec = os.listdir('data/tfrec/HPA')\n",
    "list_of_hpa_tfrec = ['data/tfrec/HPA/' + file_name for file_name in list_of_hpa_tfrec]\n",
    "random.shuffle(list_of_hpa_tfrec)\n",
    "print(len(list_of_hpa_tfrec))"
   ]
  },
  {
   "cell_type": "code",
   "execution_count": 8,
   "metadata": {
    "collapsed": true
   },
   "outputs": [],
   "source": [
    "list_of_rare = [8, 9, 10, 15, 27]\n",
    "rare_examples = []\n",
    "train_labels = pd.read_csv(TRAIN_PATH + \"train.csv\")\n",
    "# Split training examples intot training and validation set\n",
    "num_of_examples = train_labels.count()['Id']\n",
    "num_train_set = int(num_of_examples * 0.85)\n",
    "num_validation_set = num_of_examples - num_train_set\n",
    "count=0\n",
    "for i in range(0, int(num_train_set)): \n",
    "    train_filename = 'data/tfrec/train/' + train_labels['Id'][i] + '.tfrec'\n",
    "    labels = np.zeros(shape=(NUM_OF_CLASSES), dtype=int)\n",
    "    train_label = [int(s) for s in train_labels['Target'][i].split(' ')]\n",
    "    for label in train_label:\n",
    "        if label in list_of_rare:\n",
    "            rare_examples.append(train_filename)\n",
    "list_of_train_tfrec = os.listdir('data/tfrec/train')\n",
    "list_of_train_tfrec = ['data/tfrec/train/' + file_name for file_name in list_of_train_tfrec]\n",
    "for i in range(9):\n",
    "    list_of_train_tfrec = list_of_train_tfrec + rare_examples\n",
    "list_of_train_tfrec = list_of_train_tfrec + list_of_hpa_tfrec\n",
    "random.shuffle(list_of_train_tfrec)"
   ]
  },
  {
   "cell_type": "code",
   "execution_count": 9,
   "metadata": {
    "collapsed": true
   },
   "outputs": [],
   "source": [
    "num_epochs_test = 1\n",
    "batch_size_test = 16\n",
    "submission_dataset = tf.data.TFRecordDataset(list_of_test_tfrec)\n",
    "submission_dataset = submission_dataset.map(extract_fn_test)\n",
    "submission_dataset = submission_dataset.batch(batch_size_test)\n",
    "\n",
    "list_of_validation_tfrec = os.listdir('data/tfrec/validation')\n",
    "list_of_validation_tfrec = ['data/tfrec/validation/' + file_name for file_name in list_of_validation_tfrec]\n",
    "num_epochs_val = 1\n",
    "batch_size_val = 16\n",
    "val_dataset = tf.data.TFRecordDataset(list_of_validation_tfrec)\n",
    "val_dataset = val_dataset.map(extract_fn_validation)\n",
    "val_dataset = val_dataset.batch(batch_size_val)\n",
    "\n",
    "\n",
    "num_epochs = 30\n",
    "batch_size = 16\n",
    "buffer_size = 300\n",
    "train_dataset = tf.data.TFRecordDataset(list_of_train_tfrec)\n",
    "train_dataset = train_dataset.map(extract_fn_train)\n",
    "train_dataset = train_dataset.apply(tf.contrib.data.shuffle_and_repeat(buffer_size, num_epochs))\n",
    "train_dataset = train_dataset.batch(batch_size)\n",
    "train_dataset = train_dataset.apply(tf.contrib.data.prefetch_to_device(\"/device:GPU:0\"))\n",
    "\n",
    "num_epochs_mini = 10\n",
    "batch_size_mini = 16\n",
    "buffer_size_mini = 80\n",
    "mini_dataset = tf.data.TFRecordDataset(list_of_train_tfrec[0:320])\n",
    "mini_dataset = mini_dataset.map(extract_fn_train)\n",
    "mini_dataset = mini_dataset.apply(tf.contrib.data.shuffle_and_repeat(buffer_size_mini, num_epochs_mini))\n",
    "mini_dataset = mini_dataset.batch(batch_size_mini)\n",
    "mini_dataset = mini_dataset.apply(tf.contrib.data.prefetch_to_device(\"/device:GPU:0\"))"
   ]
  },
  {
   "cell_type": "markdown",
   "metadata": {},
   "source": [
    "# Training"
   ]
  },
  {
   "cell_type": "markdown",
   "metadata": {},
   "source": [
    "### Training on mini dataset to make sure model over fits and choose LR accordingly"
   ]
  },
  {
   "cell_type": "code",
   "execution_count": 10,
   "metadata": {},
   "outputs": [
    {
     "name": "stdout",
     "output_type": "stream",
     "text": [
      "[19.12|23:00:09] Step 0: training loss: 0.692989\n",
      "[19.12|23:00:09] Step 0: training F1 score: 0.118519\n",
      "[19.12|23:02:17] Step 100: training loss: 0.113436\n",
      "[19.12|23:02:17] Step 100: training F1 score: 0.203526\n"
     ]
    },
    {
     "data": {
      "image/png": "[encoded data removed]",
      "text/plain": [
       "<Figure size 432x288 with 1 Axes>"
      ]
     },
     "metadata": {
      "needs_background": "light"
     },
     "output_type": "display_data"
    },
    {
     "name": "stdout",
     "output_type": "stream",
     "text": [
      "[19.12|23:04:27] Step 0: training loss: 0.691556\n",
      "[19.12|23:04:27] Step 0: training F1 score: 0.000000\n",
      "[19.12|23:06:36] Step 100: training loss: 0.123639\n",
      "[19.12|23:06:36] Step 100: training F1 score: 0.103387\n"
     ]
    },
    {
     "data": {
      "image/png": "[encoded data removed]",
      "text/plain": [
       "<Figure size 432x288 with 1 Axes>"
      ]
     },
     "metadata": {
      "needs_background": "light"
     },
     "output_type": "display_data"
    },
    {
     "name": "stdout",
     "output_type": "stream",
     "text": [
      "[19.12|23:08:46] Step 0: training loss: 0.690007\n",
      "[19.12|23:08:46] Step 0: training F1 score: 0.065972\n",
      "[19.12|23:10:55] Step 100: training loss: 0.129045\n",
      "[19.12|23:10:55] Step 100: training F1 score: 0.054545\n"
     ]
    },
    {
     "data": {
      "image/png": "[encoded data removed]",
      "text/plain": [
       "<Figure size 432x288 with 1 Axes>"
      ]
     },
     "metadata": {
      "needs_background": "light"
     },
     "output_type": "display_data"
    },
    {
     "name": "stdout",
     "output_type": "stream",
     "text": [
      "[19.12|23:13:05] Step 0: training loss: 0.692746\n",
      "[19.12|23:13:05] Step 0: training F1 score: 0.174000\n"
     ]
    },
    {
     "ename": "KeyboardInterrupt",
     "evalue": "",
     "output_type": "error",
     "traceback": [
      "\u001b[0;31m---------------------------------------------------------------------------\u001b[0m",
      "\u001b[0;31mKeyboardInterrupt\u001b[0m                         Traceback (most recent call last)",
      "\u001b[0;32m<ipython-input-10-428feef46af1>\u001b[0m in \u001b[0;36m<module>\u001b[0;34m\u001b[0m\n\u001b[1;32m      9\u001b[0m         \u001b[0;32mfor\u001b[0m \u001b[0mstep\u001b[0m\u001b[0;34m,\u001b[0m \u001b[0mx\u001b[0m \u001b[0;32min\u001b[0m \u001b[0menumerate\u001b[0m\u001b[0;34m(\u001b[0m\u001b[0mitr\u001b[0m\u001b[0;34m)\u001b[0m\u001b[0;34m:\u001b[0m\u001b[0;34m\u001b[0m\u001b[0m\n\u001b[1;32m     10\u001b[0m             \u001b[0;32mwith\u001b[0m \u001b[0mtf\u001b[0m\u001b[0;34m.\u001b[0m\u001b[0mdevice\u001b[0m\u001b[0;34m(\u001b[0m\u001b[0;34m\"/device:GPU:0\"\u001b[0m\u001b[0;34m)\u001b[0m\u001b[0;34m:\u001b[0m\u001b[0;34m\u001b[0m\u001b[0m\n\u001b[0;32m---> 11\u001b[0;31m                 \u001b[0mloss\u001b[0m \u001b[0;34m=\u001b[0m \u001b[0mmodel\u001b[0m\u001b[0;34m.\u001b[0m\u001b[0moptimize\u001b[0m\u001b[0;34m(\u001b[0m\u001b[0mx\u001b[0m\u001b[0;34m[\u001b[0m\u001b[0;34m'train/image'\u001b[0m\u001b[0;34m]\u001b[0m\u001b[0;34m.\u001b[0m\u001b[0mnumpy\u001b[0m\u001b[0;34m(\u001b[0m\u001b[0;34m)\u001b[0m\u001b[0;34m,\u001b[0m \u001b[0mx\u001b[0m\u001b[0;34m[\u001b[0m\u001b[0;34m'train/label'\u001b[0m\u001b[0;34m]\u001b[0m\u001b[0;34m,\u001b[0m\u001b[0mtraining\u001b[0m\u001b[0;34m=\u001b[0m\u001b[0;32mTrue\u001b[0m\u001b[0;34m,\u001b[0m \u001b[0mdropout\u001b[0m\u001b[0;34m=\u001b[0m\u001b[0;32mFalse\u001b[0m\u001b[0;34m,\u001b[0m \u001b[0maugment\u001b[0m\u001b[0;34m=\u001b[0m\u001b[0;32mFalse\u001b[0m\u001b[0;34m,\u001b[0m \u001b[0mblur\u001b[0m\u001b[0;34m=\u001b[0m\u001b[0;32mFalse\u001b[0m\u001b[0;34m)\u001b[0m\u001b[0;34m\u001b[0m\u001b[0m\n\u001b[0m\u001b[1;32m     12\u001b[0m                 \u001b[0mtrain_score\u001b[0m \u001b[0;34m=\u001b[0m \u001b[0mmodel\u001b[0m\u001b[0;34m.\u001b[0m\u001b[0mtest\u001b[0m\u001b[0;34m(\u001b[0m\u001b[0mx\u001b[0m\u001b[0;34m[\u001b[0m\u001b[0;34m'train/image'\u001b[0m\u001b[0;34m]\u001b[0m\u001b[0;34m,\u001b[0m \u001b[0mx\u001b[0m\u001b[0;34m[\u001b[0m\u001b[0;34m'train/label'\u001b[0m\u001b[0;34m]\u001b[0m\u001b[0;34m)\u001b[0m\u001b[0;34m\u001b[0m\u001b[0m\n\u001b[1;32m     13\u001b[0m                 \u001b[0;32mif\u001b[0m \u001b[0mstep\u001b[0m \u001b[0;34m%\u001b[0m \u001b[0;36m100\u001b[0m \u001b[0;34m==\u001b[0m \u001b[0;36m0\u001b[0m\u001b[0;34m:\u001b[0m\u001b[0;34m\u001b[0m\u001b[0m\n",
      "\u001b[0;32m~/.local/lib/python3.6/site-packages/tensorflow/python/framework/ops.py\u001b[0m in \u001b[0;36mnumpy\u001b[0;34m(self)\u001b[0m\n\u001b[1;32m    708\u001b[0m     \u001b[0;32mif\u001b[0m \u001b[0mself\u001b[0m\u001b[0;34m.\u001b[0m\u001b[0mdtype\u001b[0m \u001b[0;34m==\u001b[0m \u001b[0mdtypes\u001b[0m\u001b[0;34m.\u001b[0m\u001b[0mresource\u001b[0m\u001b[0;34m:\u001b[0m\u001b[0;34m\u001b[0m\u001b[0m\n\u001b[1;32m    709\u001b[0m       \u001b[0;32mraise\u001b[0m \u001b[0mValueError\u001b[0m\u001b[0;34m(\u001b[0m\u001b[0;34m\"Resource handles are not convertible to numpy.\"\u001b[0m\u001b[0;34m)\u001b[0m\u001b[0;34m\u001b[0m\u001b[0m\n\u001b[0;32m--> 710\u001b[0;31m     \u001b[0;32mreturn\u001b[0m \u001b[0mself\u001b[0m\u001b[0;34m.\u001b[0m\u001b[0m_cpu_nograd\u001b[0m\u001b[0;34m(\u001b[0m\u001b[0;34m)\u001b[0m\u001b[0;34m.\u001b[0m\u001b[0m_numpy\u001b[0m\u001b[0;34m(\u001b[0m\u001b[0;34m)\u001b[0m  \u001b[0;31m# pylint: disable=protected-access\u001b[0m\u001b[0;34m\u001b[0m\u001b[0m\n\u001b[0m\u001b[1;32m    711\u001b[0m \u001b[0;34m\u001b[0m\u001b[0m\n\u001b[1;32m    712\u001b[0m   \u001b[0;31m# __int__ and  __float__ may copy the tensor to CPU and\u001b[0m\u001b[0;34m\u001b[0m\u001b[0;34m\u001b[0m\u001b[0m\n",
      "\u001b[0;31mKeyboardInterrupt\u001b[0m: "
     ]
    },
    {
     "data": {
      "text/plain": [
       "<Figure size 432x288 with 0 Axes>"
      ]
     },
     "metadata": {},
     "output_type": "display_data"
    }
   ],
   "source": [
    "lrs = [1e-3, 1e-4, 0.5e-4, 1e-5]\n",
    "for lr in lrs:\n",
    "    model = ProteinClassifier(lr=lr)\n",
    "    model_helper = TrainingHelper(step_size=10, \n",
    "                    y_value_names=[\"training loss\", \"training F1 score\"])\n",
    "    itr = mini_dataset.make_one_shot_iterator()\n",
    "\n",
    "    try:\n",
    "        for step, x in enumerate(itr):\n",
    "            with tf.device(\"/device:GPU:0\"):\n",
    "                loss = model.optimize(x['train/image'].numpy(), x['train/label'],training=True, dropout=False, augment=False, blur=False)\n",
    "                train_score = model.test(x['train/image'], x['train/label'])\n",
    "                if step % 100 == 0:\n",
    "                    model_helper.append_outputs_if_required({\"training loss\" : loss,\n",
    "                                                            \"training F1 score\" : train_score},\n",
    "                                                                    curr_step=step, print_output=True)\n",
    "                else:\n",
    "                    model_helper.append_outputs_if_required({\"training loss\" : loss,\n",
    "                                                            \"training F1 score\" : train_score},\n",
    "                                                                    curr_step=step, print_output=False)\n",
    "        model_helper.show_graph(title=\"Optimizer: %s,   Learning rate: %.1e\" % (\"Adam\", lr),\n",
    "                     keys_to_print=[\"training loss\", \"training F1 score\"])\n",
    "    except Exception as err:\n",
    "        raise\n",
    "    finally:\n",
    "        pass"
   ]
  },
  {
   "cell_type": "code",
   "execution_count": 10,
   "metadata": {},
   "outputs": [
    {
     "data": {
      "text/plain": [
       "<Figure size 432x288 with 0 Axes>"
      ]
     },
     "metadata": {},
     "output_type": "display_data"
    }
   ],
   "source": [
    "best_score = 0\n",
    "global_step = 0\n",
    "\n",
    "model = ProteinClassifier(lr=1e-3)\n",
    "model_helper = TrainingHelper(step_size=50, \n",
    "                y_value_names=[\"training loss\", \"training F1 score\", \"validation score\"])\n",
    "model.load_weights('cpt/cpt_4_no_pre_aug_RB.weights')\n",
    "itr = train_dataset.make_one_shot_iterator()\n",
    "\n",
    "try:\n",
    "    for step, x in enumerate(itr):\n",
    "        with tf.device(\"/device:GPU:0\"):\n",
    "            loss = model.optimize(x['train/image'].numpy(), x['train/label'],training=True, dropout=True, augment=True, blur=False)\n",
    "            model_helper.append_outputs_if_required({\"training loss\" : loss},\n",
    "                                                            curr_step=step+global_step, print_output=False)\n",
    "            if ((step % 1000 == 0) or (step % 6388 == 0)):\n",
    "                predictions = None\n",
    "                labels = None\n",
    "                val_itr = val_dataset.make_one_shot_iterator()\n",
    "                for step_val, x_val in enumerate(val_itr):\n",
    "                    curr_prediction = model.predict_protein(x_val['validation/image'])\n",
    "                    if predictions is not None:\n",
    "                        predictions = np.concatenate((predictions, curr_prediction), axis=0)\n",
    "                        labels = np.concatenate((labels, x_val['validation/label'].numpy()))\n",
    "                    else:\n",
    "                        predictions = curr_prediction\n",
    "                        labels = x_val['validation/label'].numpy()\n",
    "                val_score = model.calc_f1_scores(labels, predictions)\n",
    "                train_score = model.test(x['train/image'], x['train/label'])\n",
    "                if ((step % 6388 == 0) and (step != 0)):\n",
    "                    print(\"End of epoch {} results:\".format(int(step/6388)))\n",
    "                model_helper.append_outputs_if_required({\"training loss\" : loss, \"training F1 score\" : train_score,\n",
    "                                                         \"validation score\" : val_score}, curr_step=step+global_step, print_output=True)\n",
    "        if (step % 50 == 0):\n",
    "            if (val_score > best_score):\n",
    "                best_score = val_score\n",
    "                model.save_weights('cpt/cpt_4_no_pre_aug_RB.weights')\n",
    "\n",
    "except Exception as err:\n",
    "    raise\n",
    "finally:\n",
    "    pass"
   ]
  },
  {
   "cell_type": "code",
   "execution_count": 30,
   "metadata": {},
   "outputs": [
    {
     "data": {
      "text/plain": [
       "<Figure size 432x288 with 0 Axes>"
      ]
     },
     "metadata": {},
     "output_type": "display_data"
    }
   ],
   "source": [
    "with open('log') as f:\n",
    "    content = f.readlines()\n",
    "model_helper = TrainingHelper(step_size=50, \n",
    "                y_value_names=[\"training loss\", \"training F1 score\", \"validation score\"])    \n",
    "for i, line in enumerate(content):\n",
    "    line_split = line.split()\n",
    "    num = float(line_split[-1])\n",
    "    word = line_split[-2]\n",
    "    if (word == 'loss:'):\n",
    "        model_helper.y_dict['training loss'].append(num)\n",
    "        model_helper.x['training loss'].append(int(i/3)*1000)\n",
    "    elif (len(line_split) == 7):\n",
    "        model_helper.y_dict['training F1 score'].append(num)\n",
    "        model_helper.x['training F1 score'].append(int(i/3)*1000)\n",
    "    else:\n",
    "        model_helper.y_dict['validation score'].append(num)\n",
    "        model_helper.x['validation score'].append(int(i/3)*1000)\n",
    "        "
   ]
  },
  {
   "cell_type": "code",
   "execution_count": 31,
   "metadata": {},
   "outputs": [
    {
     "data": {
      "image/png": "[encoded data removed]",
      "text/plain": [
       "<Figure size 432x288 with 1 Axes>"
      ]
     },
     "metadata": {
      "needs_background": "light"
     },
     "output_type": "display_data"
    }
   ],
   "source": [
    "model_helper.show_graph(title=\"Optimizer: %s,   Learning rate: %.1e\" % (\"Adam\", 1e-3),\n",
    "                     keys_to_print=[\"training loss\", \"training F1 score\", \"validation score\"])"
   ]
  },
  {
   "cell_type": "markdown",
   "metadata": {},
   "source": [
    "# Evaluation on validation set"
   ]
  },
  {
   "cell_type": "markdown",
   "metadata": {},
   "source": [
    "### Get best thresh (for all classes) "
   ]
  },
  {
   "cell_type": "code",
   "execution_count": 16,
   "metadata": {
    "collapsed": true
   },
   "outputs": [],
   "source": [
    "predictions = None\n",
    "labels = None\n",
    "test_model = ProteinClassifier()\n",
    "test_model.load_weights('cpt/cpt_4_no_pre_w_aug_RB.weights')\n",
    "with tf.device(\"/device:GPU:0\"):\n",
    "    predictions = None\n",
    "    labels = None\n",
    "    val_itr = val_dataset.make_one_shot_iterator()\n",
    "    for step_val, x_val in enumerate(val_itr):\n",
    "        logits = test_model.get_logits(x_val['validation/image'])\n",
    "        curr_prediction = test_model.get_normalized_logits(logits).numpy()\n",
    "        if predictions is not None:\n",
    "            predictions = np.concatenate((predictions, curr_prediction), axis=0)\n",
    "            labels = np.concatenate((labels, x_val['validation/label'].numpy()))\n",
    "        else:\n",
    "            predictions = curr_prediction\n",
    "            labels = x_val['validation/label'].numpy()"
   ]
  },
  {
   "cell_type": "code",
   "execution_count": 17,
   "metadata": {},
   "outputs": [
    {
     "name": "stdout",
     "output_type": "stream",
     "text": [
      "(0.5710000000000001, <tf.Tensor: id=143689, shape=(), dtype=float32, numpy=0.4727456>)\n"
     ]
    }
   ],
   "source": [
    "print(test_model.get_best_thresh(predictions, labels, save_threshold=False, step_size=0.0005))"
   ]
  },
  {
   "cell_type": "markdown",
   "metadata": {},
   "source": [
    "### Get best thresh based on entire dataset"
   ]
  },
  {
   "cell_type": "code",
   "execution_count": 40,
   "metadata": {
    "collapsed": true
   },
   "outputs": [],
   "source": [
    "num_epochs_val = 1\n",
    "batch_size_val = 16\n",
    "val_dataset = tf.data.TFRecordDataset(list_of_validation_tfrec)\n",
    "val_dataset = val_dataset.map(extract_fn_validation)\n",
    "val_dataset = val_dataset.batch(batch_size_val)\n",
    "val_dataset = val_dataset.apply(tf.contrib.data.prefetch_to_device(\"/device:GPU:0\"))\n",
    "\n",
    "\n",
    "num_epochs = 1\n",
    "batch_size = 16\n",
    "train_dataset = tf.data.TFRecordDataset(list_of_train_tfrec)\n",
    "train_dataset = train_dataset.map(extract_fn_train)\n",
    "train_dataset = train_dataset.batch(batch_size)\n",
    "train_dataset = train_dataset.apply(tf.contrib.data.prefetch_to_device(\"/device:GPU:0\"))"
   ]
  },
  {
   "cell_type": "code",
   "execution_count": 42,
   "metadata": {
    "scrolled": true
   },
   "outputs": [
    {
     "name": "stdout",
     "output_type": "stream",
     "text": [
      "Reached 0 out of 292 steps\n",
      "Reached 50 out of 292 steps\n",
      "Reached 100 out of 292 steps\n",
      "Reached 150 out of 292 steps\n",
      "Reached 200 out of 292 steps\n",
      "Reached 250 out of 292 steps\n",
      "Reached 0 out of 1725 steps\n",
      "Reached 50 out of 1725 steps\n",
      "Reached 100 out of 1725 steps\n",
      "Reached 150 out of 1725 steps\n",
      "Reached 200 out of 1725 steps\n",
      "Reached 250 out of 1725 steps\n",
      "Reached 300 out of 1725 steps\n",
      "Reached 350 out of 1725 steps\n",
      "Reached 400 out of 1725 steps\n",
      "Reached 450 out of 1725 steps\n",
      "Reached 500 out of 1725 steps\n",
      "Reached 550 out of 1725 steps\n",
      "Reached 600 out of 1725 steps\n",
      "Reached 650 out of 1725 steps\n",
      "Reached 700 out of 1725 steps\n",
      "Reached 750 out of 1725 steps\n",
      "Reached 800 out of 1725 steps\n",
      "Reached 850 out of 1725 steps\n",
      "Reached 900 out of 1725 steps\n",
      "Reached 950 out of 1725 steps\n",
      "Reached 1000 out of 1725 steps\n",
      "Reached 1050 out of 1725 steps\n",
      "Reached 1200 out of 1725 steps\n",
      "Reached 1250 out of 1725 steps\n",
      "Reached 1300 out of 1725 steps\n",
      "Reached 1350 out of 1725 steps\n",
      "Reached 1400 out of 1725 steps\n",
      "Reached 1450 out of 1725 steps\n",
      "Reached 1500 out of 1725 steps\n",
      "Reached 1550 out of 1725 steps\n",
      "Reached 1600 out of 1725 steps\n",
      "Reached 1650 out of 1725 steps\n",
      "Reached 1700 out of 1725 steps\n",
      "Reached 1750 out of 1725 steps\n",
      "Reached 1800 out of 1725 steps\n"
     ]
    },
    {
     "ename": "KeyboardInterrupt",
     "evalue": "",
     "output_type": "error",
     "traceback": [
      "\u001b[0;31m---------------------------------------------------------------------------\u001b[0m",
      "\u001b[0;31mKeyboardInterrupt\u001b[0m                         Traceback (most recent call last)",
      "\u001b[0;32m<ipython-input-42-da18a8298d8e>\u001b[0m in \u001b[0;36m<module>\u001b[0;34m\u001b[0m\n\u001b[1;32m     20\u001b[0m         \u001b[0;32mif\u001b[0m \u001b[0;34m(\u001b[0m\u001b[0mstep_train\u001b[0m \u001b[0;34m%\u001b[0m \u001b[0;36m50\u001b[0m \u001b[0;34m==\u001b[0m \u001b[0;36m0\u001b[0m\u001b[0;34m)\u001b[0m\u001b[0;34m:\u001b[0m\u001b[0;34m\u001b[0m\u001b[0m\n\u001b[1;32m     21\u001b[0m             \u001b[0mprint\u001b[0m\u001b[0;34m(\u001b[0m\u001b[0;34m\"Reached {} out of {} steps\"\u001b[0m\u001b[0;34m.\u001b[0m\u001b[0mformat\u001b[0m\u001b[0;34m(\u001b[0m\u001b[0mstep_train\u001b[0m\u001b[0;34m,\u001b[0m \u001b[0;36m1725\u001b[0m\u001b[0;34m)\u001b[0m\u001b[0;34m)\u001b[0m\u001b[0;34m\u001b[0m\u001b[0m\n\u001b[0;32m---> 22\u001b[0;31m         \u001b[0m_\u001b[0m\u001b[0;34m,\u001b[0m \u001b[0mcurr_prediction\u001b[0m \u001b[0;34m=\u001b[0m \u001b[0mtest_model\u001b[0m\u001b[0;34m.\u001b[0m\u001b[0mpredict_protein_augmented\u001b[0m\u001b[0;34m(\u001b[0m\u001b[0mx_train\u001b[0m\u001b[0;34m[\u001b[0m\u001b[0;34m'train/image'\u001b[0m\u001b[0;34m]\u001b[0m\u001b[0;34m,\u001b[0m \u001b[0mnum_of_augments\u001b[0m\u001b[0;34m=\u001b[0m\u001b[0;36m4\u001b[0m\u001b[0;34m)\u001b[0m\u001b[0;34m\u001b[0m\u001b[0m\n\u001b[0m\u001b[1;32m     23\u001b[0m         \u001b[0;32mif\u001b[0m \u001b[0mpredictions\u001b[0m \u001b[0;32mis\u001b[0m \u001b[0;32mnot\u001b[0m \u001b[0;32mNone\u001b[0m\u001b[0;34m:\u001b[0m\u001b[0;34m\u001b[0m\u001b[0m\n\u001b[1;32m     24\u001b[0m             \u001b[0mpredictions\u001b[0m \u001b[0;34m=\u001b[0m \u001b[0mnp\u001b[0m\u001b[0;34m.\u001b[0m\u001b[0mconcatenate\u001b[0m\u001b[0;34m(\u001b[0m\u001b[0;34m(\u001b[0m\u001b[0mpredictions\u001b[0m\u001b[0;34m,\u001b[0m \u001b[0mcurr_prediction\u001b[0m\u001b[0;34m)\u001b[0m\u001b[0;34m,\u001b[0m \u001b[0maxis\u001b[0m\u001b[0;34m=\u001b[0m\u001b[0;36m0\u001b[0m\u001b[0;34m)\u001b[0m\u001b[0;34m\u001b[0m\u001b[0m\n",
      "\u001b[0;32m<ipython-input-39-0e6ffdbfa8f3>\u001b[0m in \u001b[0;36mpredict_protein_augmented\u001b[0;34m(self, inputs, num_of_augments, debug_print)\u001b[0m\n\u001b[1;32m    444\u001b[0m         \u001b[0mlogits\u001b[0m\u001b[0;34m[\u001b[0m\u001b[0;36m0\u001b[0m\u001b[0;34m]\u001b[0m \u001b[0;34m=\u001b[0m \u001b[0mself\u001b[0m\u001b[0;34m.\u001b[0m\u001b[0mget_logits\u001b[0m\u001b[0;34m(\u001b[0m\u001b[0minputs\u001b[0m\u001b[0;34m)\u001b[0m\u001b[0;34m\u001b[0m\u001b[0m\n\u001b[1;32m    445\u001b[0m         \u001b[0;32mfor\u001b[0m \u001b[0maug_step\u001b[0m \u001b[0;32min\u001b[0m \u001b[0mrange\u001b[0m\u001b[0;34m(\u001b[0m\u001b[0;36m1\u001b[0m\u001b[0;34m,\u001b[0m \u001b[0mnum_of_augments\u001b[0m\u001b[0;34m)\u001b[0m\u001b[0;34m:\u001b[0m\u001b[0;34m\u001b[0m\u001b[0m\n\u001b[0;32m--> 446\u001b[0;31m             \u001b[0mlogits\u001b[0m\u001b[0;34m[\u001b[0m\u001b[0maug_step\u001b[0m\u001b[0;34m]\u001b[0m \u001b[0;34m=\u001b[0m \u001b[0mself\u001b[0m\u001b[0;34m.\u001b[0m\u001b[0mget_logits\u001b[0m\u001b[0;34m(\u001b[0m\u001b[0minputs\u001b[0m\u001b[0;34m.\u001b[0m\u001b[0mnumpy\u001b[0m\u001b[0;34m(\u001b[0m\u001b[0;34m)\u001b[0m\u001b[0;34m,\u001b[0m \u001b[0mtraining\u001b[0m\u001b[0;34m=\u001b[0m\u001b[0;32mFalse\u001b[0m\u001b[0;34m,\u001b[0m \u001b[0mdropout\u001b[0m\u001b[0;34m=\u001b[0m\u001b[0;32mFalse\u001b[0m\u001b[0;34m,\u001b[0m \u001b[0maugment\u001b[0m\u001b[0;34m=\u001b[0m\u001b[0;32mTrue\u001b[0m\u001b[0;34m,\u001b[0m \u001b[0mblur\u001b[0m\u001b[0;34m=\u001b[0m\u001b[0;32mFalse\u001b[0m\u001b[0;34m,\u001b[0m \u001b[0maugment_control\u001b[0m\u001b[0;34m=\u001b[0m\u001b[0;32mTrue\u001b[0m\u001b[0;34m)\u001b[0m\u001b[0;34m\u001b[0m\u001b[0m\n\u001b[0m\u001b[1;32m    447\u001b[0m \u001b[0;34m\u001b[0m\u001b[0m\n\u001b[1;32m    448\u001b[0m         \u001b[0mpredictions_normalized\u001b[0m \u001b[0;34m=\u001b[0m \u001b[0mtf\u001b[0m\u001b[0;34m.\u001b[0m\u001b[0mnn\u001b[0m\u001b[0;34m.\u001b[0m\u001b[0msigmoid\u001b[0m\u001b[0;34m(\u001b[0m\u001b[0mlogits\u001b[0m\u001b[0;34m)\u001b[0m\u001b[0;34m\u001b[0m\u001b[0m\n",
      "\u001b[0;32m<ipython-input-39-0e6ffdbfa8f3>\u001b[0m in \u001b[0;36mget_logits\u001b[0;34m(self, inputs, training, dropout, augment, blur, augment_control)\u001b[0m\n\u001b[1;32m    408\u001b[0m \u001b[0;34m\u001b[0m\u001b[0m\n\u001b[1;32m    409\u001b[0m     \u001b[0;32mdef\u001b[0m \u001b[0mget_logits\u001b[0m\u001b[0;34m(\u001b[0m\u001b[0mself\u001b[0m\u001b[0;34m,\u001b[0m \u001b[0minputs\u001b[0m\u001b[0;34m,\u001b[0m \u001b[0mtraining\u001b[0m\u001b[0;34m=\u001b[0m\u001b[0;32mFalse\u001b[0m\u001b[0;34m,\u001b[0m \u001b[0mdropout\u001b[0m\u001b[0;34m=\u001b[0m\u001b[0;32mFalse\u001b[0m\u001b[0;34m,\u001b[0m \u001b[0maugment\u001b[0m\u001b[0;34m=\u001b[0m\u001b[0;32mFalse\u001b[0m\u001b[0;34m,\u001b[0m \u001b[0mblur\u001b[0m\u001b[0;34m=\u001b[0m\u001b[0;32mFalse\u001b[0m\u001b[0;34m,\u001b[0m \u001b[0maugment_control\u001b[0m\u001b[0;34m=\u001b[0m\u001b[0;32mFalse\u001b[0m\u001b[0;34m)\u001b[0m\u001b[0;34m:\u001b[0m\u001b[0;34m\u001b[0m\u001b[0m\n\u001b[0;32m--> 410\u001b[0;31m         \u001b[0mlogits\u001b[0m \u001b[0;34m=\u001b[0m \u001b[0mself\u001b[0m\u001b[0;34m(\u001b[0m\u001b[0minputs\u001b[0m\u001b[0;34m,\u001b[0m \u001b[0mtraining\u001b[0m\u001b[0;34m=\u001b[0m\u001b[0mtraining\u001b[0m\u001b[0;34m,\u001b[0m \u001b[0mdropout\u001b[0m\u001b[0;34m=\u001b[0m\u001b[0mdropout\u001b[0m\u001b[0;34m,\u001b[0m \u001b[0maugment\u001b[0m\u001b[0;34m=\u001b[0m\u001b[0maugment\u001b[0m\u001b[0;34m,\u001b[0m \u001b[0maugment_control\u001b[0m\u001b[0;34m=\u001b[0m\u001b[0maugment_control\u001b[0m\u001b[0;34m)\u001b[0m\u001b[0;34m\u001b[0m\u001b[0m\n\u001b[0m\u001b[1;32m    411\u001b[0m         \u001b[0;32mreturn\u001b[0m \u001b[0mlogits\u001b[0m\u001b[0;34m\u001b[0m\u001b[0m\n\u001b[1;32m    412\u001b[0m \u001b[0;34m\u001b[0m\u001b[0m\n",
      "\u001b[0;32m~/.local/lib/python3.6/site-packages/tensorflow/python/keras/engine/base_layer.py\u001b[0m in \u001b[0;36m__call__\u001b[0;34m(self, inputs, *args, **kwargs)\u001b[0m\n\u001b[1;32m    734\u001b[0m \u001b[0;34m\u001b[0m\u001b[0m\n\u001b[1;32m    735\u001b[0m       \u001b[0;32mif\u001b[0m \u001b[0;32mnot\u001b[0m \u001b[0min_deferred_mode\u001b[0m\u001b[0;34m:\u001b[0m\u001b[0;34m\u001b[0m\u001b[0m\n\u001b[0;32m--> 736\u001b[0;31m         \u001b[0moutputs\u001b[0m \u001b[0;34m=\u001b[0m \u001b[0mself\u001b[0m\u001b[0;34m.\u001b[0m\u001b[0mcall\u001b[0m\u001b[0;34m(\u001b[0m\u001b[0minputs\u001b[0m\u001b[0;34m,\u001b[0m \u001b[0;34m*\u001b[0m\u001b[0margs\u001b[0m\u001b[0;34m,\u001b[0m \u001b[0;34m**\u001b[0m\u001b[0mkwargs\u001b[0m\u001b[0;34m)\u001b[0m\u001b[0;34m\u001b[0m\u001b[0m\n\u001b[0m\u001b[1;32m    737\u001b[0m         \u001b[0;32mif\u001b[0m \u001b[0moutputs\u001b[0m \u001b[0;32mis\u001b[0m \u001b[0;32mNone\u001b[0m\u001b[0;34m:\u001b[0m\u001b[0;34m\u001b[0m\u001b[0m\n\u001b[1;32m    738\u001b[0m           raise ValueError('A layer\\'s `call` method should return a Tensor '\n",
      "\u001b[0;32m<ipython-input-39-0e6ffdbfa8f3>\u001b[0m in \u001b[0;36mcall\u001b[0;34m(self, inputs_o, training, dropout, augment, augment_control, **kwargs)\u001b[0m\n\u001b[1;32m    238\u001b[0m         \u001b[0minput_g\u001b[0m \u001b[0;34m=\u001b[0m \u001b[0minputs\u001b[0m\u001b[0;34m[\u001b[0m\u001b[0;34m:\u001b[0m\u001b[0;34m,\u001b[0m\u001b[0;34m:\u001b[0m\u001b[0;34m,\u001b[0m\u001b[0;34m:\u001b[0m\u001b[0;34m,\u001b[0m\u001b[0;36m1\u001b[0m\u001b[0;34m:\u001b[0m\u001b[0;36m2\u001b[0m\u001b[0;34m]\u001b[0m\u001b[0;34m\u001b[0m\u001b[0m\n\u001b[1;32m    239\u001b[0m         \u001b[0minput_b\u001b[0m \u001b[0;34m=\u001b[0m \u001b[0minputs\u001b[0m\u001b[0;34m[\u001b[0m\u001b[0;34m:\u001b[0m\u001b[0;34m,\u001b[0m\u001b[0;34m:\u001b[0m\u001b[0;34m,\u001b[0m\u001b[0;34m:\u001b[0m\u001b[0;34m,\u001b[0m\u001b[0;36m2\u001b[0m\u001b[0;34m:\u001b[0m\u001b[0;34m]\u001b[0m\u001b[0;34m\u001b[0m\u001b[0m\n\u001b[0;32m--> 240\u001b[0;31m         \u001b[0minputsR\u001b[0m \u001b[0;34m=\u001b[0m \u001b[0mnp\u001b[0m\u001b[0;34m.\u001b[0m\u001b[0mconcatenate\u001b[0m\u001b[0;34m(\u001b[0m\u001b[0;34m(\u001b[0m\u001b[0minput_r\u001b[0m\u001b[0;34m,\u001b[0m\u001b[0minput_g\u001b[0m\u001b[0;34m)\u001b[0m\u001b[0;34m,\u001b[0m \u001b[0maxis\u001b[0m\u001b[0;34m=\u001b[0m\u001b[0;36m3\u001b[0m\u001b[0;34m)\u001b[0m\u001b[0;34m\u001b[0m\u001b[0m\n\u001b[0m\u001b[1;32m    241\u001b[0m         \u001b[0minputsB\u001b[0m \u001b[0;34m=\u001b[0m \u001b[0mnp\u001b[0m\u001b[0;34m.\u001b[0m\u001b[0mconcatenate\u001b[0m\u001b[0;34m(\u001b[0m\u001b[0;34m(\u001b[0m\u001b[0minput_b\u001b[0m\u001b[0;34m,\u001b[0m\u001b[0minput_g\u001b[0m\u001b[0;34m)\u001b[0m\u001b[0;34m,\u001b[0m \u001b[0maxis\u001b[0m\u001b[0;34m=\u001b[0m\u001b[0;36m3\u001b[0m\u001b[0;34m)\u001b[0m\u001b[0;34m\u001b[0m\u001b[0m\n\u001b[1;32m    242\u001b[0m         \u001b[0minputsR\u001b[0m \u001b[0;34m=\u001b[0m \u001b[0mtf\u001b[0m\u001b[0;34m.\u001b[0m\u001b[0mreshape\u001b[0m\u001b[0;34m(\u001b[0m\u001b[0minputsR\u001b[0m\u001b[0;34m,\u001b[0m \u001b[0;34m[\u001b[0m\u001b[0;34m-\u001b[0m\u001b[0;36m1\u001b[0m\u001b[0;34m,\u001b[0m \u001b[0;36m512\u001b[0m\u001b[0;34m,\u001b[0m \u001b[0;36m512\u001b[0m\u001b[0;34m,\u001b[0m \u001b[0;36m2\u001b[0m\u001b[0;34m]\u001b[0m\u001b[0;34m)\u001b[0m\u001b[0;34m\u001b[0m\u001b[0m\n",
      "\u001b[0;31mKeyboardInterrupt\u001b[0m: "
     ]
    }
   ],
   "source": [
    "predictions = None\n",
    "labels = None\n",
    "test_model = ProteinClassifier()\n",
    "test_model.load_weights('cpt/cpt_4_no_pre_w_aug_RB.weights')\n",
    "with tf.device(\"/device:GPU:0\"):\n",
    "    val_itr = val_dataset.make_one_shot_iterator()\n",
    "    for step_val, x_val in enumerate(val_itr):\n",
    "        if (step_val % 50 == 0):\n",
    "            print(\"Reached {} out of {} steps\".format(step_val, 292))\n",
    "        _, curr_prediction = test_model.predict_protein_augmented(x_val['validation/image'], num_of_augments=4)\n",
    "        if predictions is not None:\n",
    "            predictions = np.concatenate((predictions, curr_prediction), axis=0)\n",
    "            labels = np.concatenate((labels, x_val['validation/label'].numpy()))\n",
    "        else:\n",
    "            predictions = curr_prediction\n",
    "            labels = x_val['validation/label'].numpy()\n",
    "\n",
    "    train_itr = train_dataset.make_one_shot_iterator()\n",
    "    for step_train, x_train in enumerate(train_itr):\n",
    "        if (step_train % 50 == 0):\n",
    "            print(\"Reached {} out of {} steps\".format(step_train, 1725))\n",
    "        _, curr_prediction = test_model.predict_protein_augmented(x_train['train/image'], num_of_augments=4)\n",
    "        if predictions is not None:\n",
    "            predictions = np.concatenate((predictions, curr_prediction), axis=0)\n",
    "            labels = np.concatenate((labels, x_train['train/label'].numpy()))\n",
    "        else:\n",
    "            predictions = curr_prediction\n",
    "            labels = x_train['train/label'].numpy()"
   ]
  },
  {
   "cell_type": "code",
   "execution_count": 45,
   "metadata": {},
   "outputs": [
    {
     "name": "stdout",
     "output_type": "stream",
     "text": [
      "[0.22 0.79 0.78 0.22 0.82 0.23 0.23 0.21 0.23 0.23 0.22 0.22 0.82 0.89\n",
      " 0.82 0.19 0.59 0.69 0.37 0.22 0.96 0.22 0.74 0.78 0.8  0.21 0.76 0.75]\n"
     ]
    }
   ],
   "source": [
    "print(test_model.get_best_thresholds(predictions, labels, save_threshold=False, step_size=0.01))"
   ]
  },
  {
   "cell_type": "code",
   "execution_count": 10,
   "metadata": {
    "collapsed": true
   },
   "outputs": [],
   "source": [
    "threshs = np.array([0.13, 0.52, 0.66, 0.67, 0.27, 0.53, 0.59, 0.56, 0.41, 0.8, 0.56, 0.56, 0.77, 0.83,\n",
    " 0.53 0.   0.48 0.22 0.55 0.75 0.98 0.27 0.78 0.35 0.98 0.26 0.51 0.15])"
   ]
  },
  {
   "cell_type": "code",
   "execution_count": 31,
   "metadata": {},
   "outputs": [
    {
     "data": {
      "text/plain": [
       "array([0.43, 0.3 , 0.4 , 0.32, 0.33, 0.35, 0.25, 0.37, 0.27, 0.48, 0.47,\n",
       "       0.3 , 0.22, 0.21, 0.27, 0.18, 0.22, 0.16, 0.18, 0.3 , 0.21, 0.31,\n",
       "       0.22, 0.41, 0.24, 0.34, 0.22, 0.46])"
      ]
     },
     "execution_count": 31,
     "metadata": {},
     "output_type": "execute_result"
    }
   ],
   "source": [
    "threshs"
   ]
  },
  {
   "cell_type": "markdown",
   "metadata": {},
   "source": [
    "### Test on validation set based on multiple thresholds with test augmentation"
   ]
  },
  {
   "cell_type": "code",
   "execution_count": 18,
   "metadata": {},
   "outputs": [
    {
     "name": "stdout",
     "output_type": "stream",
     "text": [
      "Reached 0 out of 292 steps\n",
      "Reached 30 out of 292 steps\n",
      "Reached 60 out of 292 steps\n",
      "Reached 90 out of 292 steps\n",
      "Reached 120 out of 292 steps\n",
      "Reached 150 out of 292 steps\n",
      "Reached 180 out of 292 steps\n",
      "Reached 210 out of 292 steps\n",
      "Reached 240 out of 292 steps\n",
      "Reached 270 out of 292 steps\n"
     ]
    }
   ],
   "source": [
    "predictions = None\n",
    "labels = None\n",
    "test_model = ProteinClassifier()\n",
    "test_model.load_weights('cpt/cpt_4_no_pre_w_aug_RB.weights')\n",
    "with tf.device(\"/device:GPU:0\"):\n",
    "    predictions = None\n",
    "    labels = None\n",
    "    val_itr = val_dataset.make_one_shot_iterator()\n",
    "    for step_val, x_val in enumerate(val_itr):\n",
    "        if (step_val % 30 == 0):\n",
    "            print(\"Reached {} out of {} steps\".format(step_val, 292))\n",
    "        curr_prediction, _ = test_model.predict_protein_augmented(x_val['validation/image'], num_of_augments=1)\n",
    "        if predictions is not None:\n",
    "            predictions = np.concatenate((predictions, curr_prediction), axis=0)\n",
    "            labels = np.concatenate((labels, x_val['validation/label'].numpy()))\n",
    "        else:\n",
    "            predictions = curr_prediction\n",
    "            labels = x_val['validation/label'].numpy()"
   ]
  },
  {
   "cell_type": "code",
   "execution_count": 19,
   "metadata": {},
   "outputs": [
    {
     "name": "stdout",
     "output_type": "stream",
     "text": [
      "tf.Tensor(0.4696731, shape=(), dtype=float32)\n",
      "0.4696731268670777\n"
     ]
    }
   ],
   "source": [
    "print(test_model.calc_f1_scores(labels, predictions))\n",
    "print(f1_score(labels, predictions, average='macro'))"
   ]
  },
  {
   "cell_type": "markdown",
   "metadata": {},
   "source": [
    "# Test set prediction"
   ]
  },
  {
   "cell_type": "code",
   "execution_count": 14,
   "metadata": {},
   "outputs": [
    {
     "data": {
      "text/plain": [
       "array([0.5, 0.5, 0.5, 0.5, 0.5, 0.5, 0.5, 0.5, 0.5, 0.5, 0.5, 0.5, 0.5,\n",
       "       0.5, 0.5, 0.5, 0.5, 0.5, 0.5, 0.5, 0.5, 0.5, 0.5, 0.5, 0.5, 0.5,\n",
       "       0.5, 0.5])"
      ]
     },
     "execution_count": 14,
     "metadata": {},
     "output_type": "execute_result"
    }
   ],
   "source": [
    "test_model.thresholds"
   ]
  },
  {
   "cell_type": "code",
   "execution_count": 29,
   "metadata": {},
   "outputs": [
    {
     "name": "stdout",
     "output_type": "stream",
     "text": [
      "reached 0 out of 732\n",
      "reached 30 out of 732\n",
      "reached 60 out of 732\n",
      "reached 90 out of 732\n",
      "reached 120 out of 732\n",
      "reached 150 out of 732\n",
      "reached 180 out of 732\n",
      "reached 210 out of 732\n",
      "reached 240 out of 732\n",
      "reached 270 out of 732\n",
      "reached 300 out of 732\n",
      "reached 330 out of 732\n",
      "reached 360 out of 732\n",
      "reached 390 out of 732\n",
      "reached 420 out of 732\n",
      "reached 450 out of 732\n",
      "reached 480 out of 732\n",
      "reached 510 out of 732\n",
      "reached 540 out of 732\n",
      "reached 570 out of 732\n",
      "reached 600 out of 732\n",
      "reached 630 out of 732\n",
      "reached 660 out of 732\n",
      "reached 690 out of 732\n",
      "reached 720 out of 732\n"
     ]
    }
   ],
   "source": [
    "test_model = ProteinClassifier()\n",
    "test_model.load_weights('cpt/cpt_4_no_pre_aug_RB.weights')\n",
    "protein_prediction = np.zeros((11702, 28))\n",
    "test_model.thresholds -= 0.25\n",
    "i = 0\n",
    "pos = 0\n",
    "with tf.device(\"/device:GPU:0\"):\n",
    "    val_itr = submission_dataset.make_one_shot_iterator()\n",
    "    for val_step, val_x in enumerate(val_itr):\n",
    "        if (val_step % 30 == 0):\n",
    "            print(\"reached {} out of {}\".format(val_step, 732))\n",
    "        curr_prediction = test_model.predict_protein(val_x['test/image'])\n",
    "        protein_prediction[pos:pos+int(curr_prediction.shape[0])] = curr_prediction[0:int(curr_prediction.shape[0])]\n",
    "        pos += int(curr_prediction.shape[0])\n",
    "    \n",
    "#submission = pd.read_csv(\"sample_submission.csv\")\n",
    "#submission_copy = submission.copy()\n",
    "#for i in range(11702):\n",
    "#    proteins = np.where(np.array(protein_prediction[i]) == 1)[0].tolist()\n",
    "#    guess = \" \".join(str(x) for x in proteins[::-1])\n",
    "#    submission_copy.loc[i,'Predicted'] = guess\n",
    "\n",
    "#submission_copy.to_csv(\"submission_1.csv\", index=False)"
   ]
  },
  {
   "cell_type": "code",
   "execution_count": 30,
   "metadata": {},
   "outputs": [
    {
     "name": "stdout",
     "output_type": "stream",
     "text": [
      "0 4771 4768 1783 322 48 11692\n"
     ]
    }
   ],
   "source": [
    "c0, c1, c2, c3, c4, c5 = 0, 0, 0, 0, 0, 0\n",
    "for i in range(protein_prediction.shape[0]):\n",
    "    if (len(np.where(protein_prediction[i] == 1)[0]) == 0):\n",
    "        c0+=1\n",
    "    if (len(np.where(protein_prediction[i] == 1)[0]) == 1):\n",
    "        c1+=1\n",
    "    if (len(np.where(protein_prediction[i] == 1)[0]) == 2):\n",
    "        c2+=1\n",
    "    if (len(np.where(protein_prediction[i] == 1)[0]) == 3):\n",
    "        c3+=1\n",
    "    if (len(np.where(protein_prediction[i] == 1)[0]) == 4):\n",
    "        c4+=1\n",
    "    if (len(np.where(protein_prediction[i] == 1)[0]) == 5):\n",
    "        c5+=1\n",
    "print(c0, c1, c2, c3, c4, c5, c1+c2+c3+c4+c5)"
   ]
  },
  {
   "cell_type": "code",
   "execution_count": 31,
   "metadata": {
    "collapsed": true
   },
   "outputs": [],
   "source": [
    "submission = pd.read_csv(\"sample_submission.csv\")\n",
    "submission_copy = submission.copy()\n",
    "for i in range(11702):\n",
    "    proteins = np.where(np.array(protein_prediction[i]) == 1)[0].tolist()\n",
    "    guess = \" \".join(str(x) for x in proteins[::-1])\n",
    "    submission_copy.loc[i,'Predicted'] = guess\n",
    "\n",
    "submission_copy.to_csv(\"submission_1.csv\", index=False)"
   ]
  },
  {
   "cell_type": "code",
   "execution_count": 32,
   "metadata": {
    "scrolled": true
   },
   "outputs": [
    {
     "data": {
      "text/plain": [
       "<bound method NDFrame.head of                                          Id  Predicted\n",
       "0      00008af0-bad0-11e8-b2b8-ac1f6b6435d0        2 0\n",
       "1      0000a892-bacf-11e8-b2b8-ac1f6b6435d0         25\n",
       "2      0006faa6-bac7-11e8-b2b7-ac1f6b6435d0    25 21 0\n",
       "3      0008baca-bad7-11e8-b2b9-ac1f6b6435d0       25 0\n",
       "4      000cce7e-bad4-11e8-b2b8-ac1f6b6435d0         25\n",
       "5      00109f6a-bac8-11e8-b2b7-ac1f6b6435d0       25 4\n",
       "6      001765de-bacd-11e8-b2b8-ac1f6b6435d0     25 4 0\n",
       "7      0018641a-bac9-11e8-b2b8-ac1f6b6435d0          0\n",
       "8      00200f22-bad7-11e8-b2b9-ac1f6b6435d0          0\n",
       "9      0026f154-bac6-11e8-b2b7-ac1f6b6435d0    25 14 2\n",
       "10     002729d2-bace-11e8-b2b8-ac1f6b6435d0         25\n",
       "11     002c1a7c-bad4-11e8-b2b8-ac1f6b6435d0          5\n",
       "12     003170fa-bacd-11e8-b2b8-ac1f6b6435d0       25 2\n",
       "13     0031820a-baca-11e8-b2b8-ac1f6b6435d0          7\n",
       "14     00407c16-bad3-11e8-b2b8-ac1f6b6435d0         21\n",
       "15     005ce2ea-bacc-11e8-b2b8-ac1f6b6435d0         23\n",
       "16     00631ec8-bad9-11e8-b2b9-ac1f6b6435d0       21 2\n",
       "17     00673f64-bad2-11e8-b2b8-ac1f6b6435d0        5 0\n",
       "18     0070171c-bad0-11e8-b2b8-ac1f6b6435d0      16 14\n",
       "19     007290b6-bad8-11e8-b2b9-ac1f6b6435d0        5 0\n",
       "20     0075ee26-bacb-11e8-b2b8-ac1f6b6435d0       25 6\n",
       "21     00763d66-bacd-11e8-b2b8-ac1f6b6435d0          2\n",
       "22     007eca68-bac7-11e8-b2b7-ac1f6b6435d0       25 0\n",
       "23     008ab0b8-bad5-11e8-b2b8-ac1f6b6435d0    21 12 0\n",
       "24     008e8c3e-bad4-11e8-b2b8-ac1f6b6435d0        4 0\n",
       "25     009131e6-baca-11e8-b2b8-ac1f6b6435d0      25 21\n",
       "26     0094159e-bad1-11e8-b2b8-ac1f6b6435d0       25 0\n",
       "27     0097a5c2-bac9-11e8-b2b8-ac1f6b6435d0          0\n",
       "28     009d32e4-bad3-11e8-b2b8-ac1f6b6435d0       25 0\n",
       "29     00a4925a-bad8-11e8-b2b9-ac1f6b6435d0          0\n",
       "...                                     ...        ...\n",
       "11672  ff2cd716-bad7-11e8-b2b9-ac1f6b6435d0          0\n",
       "11673  ff2d3abc-bad7-11e8-b2b9-ac1f6b6435d0    25 21 0\n",
       "11674  ff38cec0-bad4-11e8-b2b8-ac1f6b6435d0          2\n",
       "11675  ff489096-bad7-11e8-b2b9-ac1f6b6435d0      25 14\n",
       "11676  ff49d834-bad2-11e8-b2b8-ac1f6b6435d0        2 0\n",
       "11677  ff4aa9a4-bac7-11e8-b2b7-ac1f6b6435d0         21\n",
       "11678  ff5464dc-baca-11e8-b2b8-ac1f6b6435d0   21 13 12\n",
       "11679  ff56b30a-bace-11e8-b2b8-ac1f6b6435d0        1 0\n",
       "11680  ff581dac-bac5-11e8-b2b7-ac1f6b6435d0         19\n",
       "11681  ff5ee18c-baca-11e8-b2b8-ac1f6b6435d0       25 0\n",
       "11682  ff67db02-baca-11e8-b2b8-ac1f6b6435d0       25 0\n",
       "11683  ff7cc20c-bad3-11e8-b2b8-ac1f6b6435d0         21\n",
       "11684  ff7dc452-bad5-11e8-b2b9-ac1f6b6435d0          0\n",
       "11685  ff8346fa-bad7-11e8-b2b9-ac1f6b6435d0      21 11\n",
       "11686  ff8e580c-bad1-11e8-b2b8-ac1f6b6435d0         23\n",
       "11687  ff9659a0-bacf-11e8-b2b8-ac1f6b6435d0          0\n",
       "11688  ff9bdfd8-baca-11e8-b2b8-ac1f6b6435d0         21\n",
       "11689  ff9ccd2a-bad0-11e8-b2b8-ac1f6b6435d0         25\n",
       "11690  ffa6bc7e-bad3-11e8-b2b8-ac1f6b6435d0    25 21 7\n",
       "11691  ffad96dc-bad5-11e8-b2b9-ac1f6b6435d0       26 0\n",
       "11692  ffb91448-bac7-11e8-b2b7-ac1f6b6435d0        7 0\n",
       "11693  ffd677a0-bada-11e8-b2b9-ac1f6b6435d0  19 18 1 0\n",
       "11694  ffd72db2-bad5-11e8-b2b9-ac1f6b6435d0    24 18 0\n",
       "11695  ffd83fa4-bacb-11e8-b2b8-ac1f6b6435d0    25 11 0\n",
       "11696  ffd91122-bad0-11e8-b2b8-ac1f6b6435d0    25 23 2\n",
       "11697  ffdfb96a-bad4-11e8-b2b8-ac1f6b6435d0      12 11\n",
       "11698  ffdfc590-bad4-11e8-b2b8-ac1f6b6435d0          0\n",
       "11699  ffecb8a4-bad4-11e8-b2b8-ac1f6b6435d0         23\n",
       "11700  fff03816-bad5-11e8-b2b9-ac1f6b6435d0          1\n",
       "11701  fffe6f9c-bacd-11e8-b2b8-ac1f6b6435d0       25 0\n",
       "\n",
       "[11702 rows x 2 columns]>"
      ]
     },
     "execution_count": 32,
     "metadata": {},
     "output_type": "execute_result"
    }
   ],
   "source": [
    "submission_copy.head"
   ]
  },
  {
   "cell_type": "code",
   "execution_count": null,
   "metadata": {
    "collapsed": true
   },
   "outputs": [],
   "source": []
  }
 ],
 "metadata": {
  "kernelspec": {
   "display_name": "Python 3",
   "language": "python",
   "name": "python3"
  },
  "language_info": {
   "codemirror_mode": {
    "name": "ipython",
    "version": 3
   },
   "file_extension": ".py",
   "mimetype": "text/x-python",
   "name": "python",
   "nbconvert_exporter": "python",
   "pygments_lexer": "ipython3",
   "version": "3.6.5"
  }
 },
 "nbformat": 4,
 "nbformat_minor": 2
}
